{
  "nbformat": 4,
  "nbformat_minor": 0,
  "metadata": {
    "colab": {
      "provenance": []
    },
    "kernelspec": {
      "name": "python3",
      "display_name": "Python 3"
    },
    "language_info": {
      "name": "python"
    }
  },
  "cells": [
    {
      "cell_type": "code",
      "metadata": {
        "colab": {
          "base_uri": "https://localhost:8080/",
          "height": 206
        },
        "id": "31fdd868",
        "outputId": "7fd8b8b8-75a6-4cdd-843f-cb2e7d32a3be"
      },
      "source": [
        "merged_df = pd.merge(ratings_df, movies_df, on='movieId')\n",
        "merged_df.head()"
      ],
      "execution_count": null,
      "outputs": []
    },
    {
      "cell_type": "code",
      "metadata": {
        "colab": {
          "base_uri": "https://localhost:8080/",
          "height": 237
        },
        "id": "95023e2e",
        "outputId": "96f5e643-6487-442a-d944-3af49c9ba719"
      },
      "source": [
        "user_item_matrix = merged_df.pivot(index='userId', columns='title', values='rating').fillna(0)\n",
        "user_item_matrix.head()"
      ],
      "execution_count": null,
      "outputs": []
    },
    {
      "cell_type": "code",
      "metadata": {
        "colab": {
          "base_uri": "https://localhost:8080/",
          "height": 237
        },
        "id": "b55aa75b",
        "outputId": "68bf8ead-12fc-4170-8805-69328c725bab"
      },
      "source": [
        "from sklearn.metrics.pairwise import cosine_similarity\n",
        "\n",
        "user_similarity = cosine_similarity(user_item_matrix)\n",
        "user_similarity_df = pd.DataFrame(user_similarity, index=user_item_matrix.index, columns=user_item_matrix.index)\n",
        "display(user_similarity_df)"
      ],
      "execution_count": null,
      "outputs": []
    },
    {
      "cell_type": "code",
      "metadata": {
        "colab": {
          "base_uri": "https://localhost:8080/"
        },
        "id": "67b4d1c4",
        "outputId": "2d808355-ce73-438b-9e72-5f9cb70b993c"
      },
      "source": [
        "def get_recommendations(user_id, user_item_matrix, user_similarity_df, num_recommendations=5):\n",
        "    \"\"\"\n",
        "    Generates movie recommendations for a user based on collaborative filtering.\n",
        "\n",
        "    Args:\n",
        "        user_id: The ID of the user for whom to generate recommendations.\n",
        "        user_item_matrix: The user-item matrix.\n",
        "        user_similarity_df: The user-user similarity DataFrame.\n",
        "        num_recommendations: The number of recommendations to generate.\n",
        "\n",
        "    Returns:\n",
        "        A list of recommended movie titles.\n",
        "    \"\"\"\n",
        "    # Get the similarity scores for the given user\n",
        "    user_similarity_scores = user_similarity_df.loc[user_id]\n",
        "\n",
        "    # Sort similar users in descending order\n",
        "    sorted_similar_users = user_similarity_scores.sort_values(ascending=False)\n",
        "\n",
        "    # Get the movies rated by the target user\n",
        "    user_rated_movies = user_item_matrix.loc[user_id][user_item_matrix.loc[user_id] > 0].index\n",
        "\n",
        "    # Initialize a dictionary to store predicted ratings\n",
        "    predicted_ratings = {}\n",
        "\n",
        "    # Iterate through similar users (excluding the target user)\n",
        "    for similar_user_id in sorted_similar_users.index:\n",
        "        if similar_user_id != user_id:\n",
        "            # Get movies rated by the similar user\n",
        "            similar_user_rated_movies = user_item_matrix.loc[similar_user_id][user_item_matrix.loc[similar_user_id] > 0].index\n",
        "\n",
        "            # Identify movies rated by the similar user but not by the target user\n",
        "            unrated_movies = similar_user_rated_movies.difference(user_rated_movies)\n",
        "\n",
        "            for movie in unrated_movies:\n",
        "                # Get the rating of the similar user for this movie\n",
        "                similar_user_rating = user_item_matrix.loc[similar_user_id, movie]\n",
        "\n",
        "                # Get the similarity score between the target user and the similar user\n",
        "                similarity_score = sorted_similar_users.loc[similar_user_id]\n",
        "\n",
        "                # Calculate weighted rating and add to predicted_ratings\n",
        "                if movie not in predicted_ratings:\n",
        "                    predicted_ratings[movie] = 0\n",
        "                predicted_ratings[movie] += similar_user_rating * similarity_score\n",
        "\n",
        "    # Sort unrated movies by predicted ratings\n",
        "    sorted_recommendations = sorted(predicted_ratings.items(), key=lambda item: item[1], reverse=True)\n",
        "\n",
        "    # Return the top N recommended movies\n",
        "    return [movie for movie, rating in sorted_recommendations[:num_recommendations]]\n",
        "\n",
        "# Example usage of the function\n",
        "user_id_to_recommend = 1\n",
        "recommendations = get_recommendations(user_id_to_recommend, user_item_matrix, user_similarity_df)\n",
        "print(f\"Recommendations for user {user_id_to_recommend}: {recommendations}\")"
      ],
      "execution_count": null,
      "outputs": []
    }
  ]
}